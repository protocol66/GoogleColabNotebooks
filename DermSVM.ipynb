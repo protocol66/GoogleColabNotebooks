{
  "nbformat": 4,
  "nbformat_minor": 0,
  "metadata": {
    "colab": {
      "name": "DermSVM.ipynb",
      "provenance": [],
      "collapsed_sections": [],
      "authorship_tag": "ABX9TyMYCllG/fzNGkedadTygvw3",
      "include_colab_link": true
    },
    "kernelspec": {
      "name": "python3",
      "display_name": "Python 3"
    },
    "language_info": {
      "name": "python"
    }
  },
  "cells": [
    {
      "cell_type": "markdown",
      "metadata": {
        "id": "view-in-github",
        "colab_type": "text"
      },
      "source": [
        "<a href=\"https://colab.research.google.com/github/protocol66/GoogleColabNotebooks/blob/main/DermSVM.ipynb\" target=\"_parent\"><img src=\"https://colab.research.google.com/assets/colab-badge.svg\" alt=\"Open In Colab\"/></a>"
      ]
    },
    {
      "cell_type": "markdown",
      "metadata": {
        "id": "fyr5PPxSkoag"
      },
      "source": [
        "Import packages"
      ]
    },
    {
      "cell_type": "code",
      "metadata": {
        "id": "Ny560tqyi_2B"
      },
      "source": [
        "import pandas as pd\n",
        "import numpy as np\n",
        "import matplotlib.pyplot as plt\n",
        "from sklearn import pipeline, preprocessing, svm, tree\n",
        "from sklearn.model_selection import train_test_split, GridSearchCV, cross_val_score\n",
        "# from sklearn.decomposition import PCA\n",
        "from sklearn.metrics import accuracy_score, confusion_matrix, plot_confusion_matrix, plot_roc_curve"
      ],
      "execution_count": 5,
      "outputs": []
    },
    {
      "cell_type": "markdown",
      "metadata": {
        "id": "XqjgzGlukv66"
      },
      "source": [
        "\n",
        "Read in dataset"
      ]
    },
    {
      "cell_type": "code",
      "metadata": {
        "id": "QgPyujaYjA0M"
      },
      "source": [
        "df = pd.read_csv('/content/data/dermatology.data', header=None)\n",
        "df.columns = ['erythema',\n",
        "            'scaling',\n",
        "            'definite borders',\n",
        "            'itching',\n",
        "            'koebner phenomenon',\n",
        "            'polygonal papules',\n",
        "            'follicular papules',\n",
        "            'oral mucosal involvement',\n",
        "            'knee and elbow involvement',\n",
        "            'scalp involvement',\n",
        "            'family history',\n",
        "            'melanin incontinence',\n",
        "            'eosinophils in the infiltrate',\n",
        "            'PNL infiltrate',\n",
        "            'fibrosis of the papillary dermis',\n",
        "            'exocytosis',\n",
        "            'acanthosis',\n",
        "            'hyperkeratosis',\n",
        "            'parakeratosis',\n",
        "            'clubbing of the rete ridges',\n",
        "            'elongation of the rete ridges',\n",
        "            'thinning of the suprapapillary epidermis',\n",
        "            'spongiform pustule',\n",
        "            'munro microabcess',\n",
        "            'focal hypergranulosis',\n",
        "            'disappearance of the granular layer',\n",
        "            'vacuolisation and damage of basal layer',\n",
        "            'spongiosis',\n",
        "            'saw-tooth appearance of retes',\n",
        "            'follicular horn plug',\n",
        "            'perifollicular parakeratosis',\n",
        "            'inflammatory monoluclear inflitrate',\n",
        "            'band-like infiltrate',\n",
        "            'age',\n",
        "            'class']"
      ],
      "execution_count": 4,
      "outputs": []
    },
    {
      "cell_type": "markdown",
      "metadata": {
        "id": "8qf7x28Dk82s"
      },
      "source": [
        "Drop rows with missing data"
      ]
    },
    {
      "cell_type": "code",
      "metadata": {
        "id": "NX0xRVumkKOE"
      },
      "source": [
        "df.replace('?', np.nan, inplace=True)\n",
        "df.dropna(inplace=True)"
      ],
      "execution_count": 6,
      "outputs": []
    },
    {
      "cell_type": "markdown",
      "metadata": {
        "id": "p0s0KvOTlBfI"
      },
      "source": [
        "Split features and labels"
      ]
    },
    {
      "cell_type": "code",
      "metadata": {
        "id": "EUzZwArikKXT"
      },
      "source": [
        "X = df.drop(['class'], 1).copy()\n",
        "y = df['class'].copy()\n",
        "X = np.array(X)\n",
        "y = np.array(y)"
      ],
      "execution_count": 7,
      "outputs": []
    },
    {
      "cell_type": "markdown",
      "metadata": {
        "id": "TPCIDP1KlFJ4"
      },
      "source": [
        "Scale data"
      ]
    },
    {
      "cell_type": "code",
      "metadata": {
        "id": "ABSwF-4ekKdP"
      },
      "source": [
        "scaler = preprocessing.StandardScaler()\n",
        "X = scaler.fit_transform(X)"
      ],
      "execution_count": 8,
      "outputs": []
    },
    {
      "cell_type": "markdown",
      "metadata": {
        "id": "fiA1z970lK6l"
      },
      "source": [
        "Split training and testing sets"
      ]
    },
    {
      "cell_type": "code",
      "metadata": {
        "id": "jrpqfsiZkKhP"
      },
      "source": [
        "X_train, X_test, y_train, y_test = train_test_split(X, y, test_size=0.2, random_state=42)"
      ],
      "execution_count": 24,
      "outputs": []
    },
    {
      "cell_type": "markdown",
      "metadata": {
        "id": "DOHq2kMulJ3F"
      },
      "source": [
        "Use GridSearchCV() to find best paramaters then print out paramaters. (No need to rerun if using same training data.)"
      ]
    },
    {
      "cell_type": "code",
      "metadata": {
        "colab": {
          "base_uri": "https://localhost:8080/"
        },
        "id": "AyRm3yZPkKkW",
        "outputId": "ecb6b490-54dd-46b7-dd04-86c0318d4c6e"
      },
      "source": [
        "\n",
        "params = {\n",
        "    'C': [0.5, 1, 2, 3, 4, 5, 6, 7, 8, 9, 10, 100],\n",
        "    'gamma': ['scale', 1, 0.1, 0.01, 0.001, 0.0001],\n",
        "    'kernel': ['linear', 'rbf']\n",
        "}\n",
        "clf = GridSearchCV(\n",
        "    svm.SVC(),\n",
        "    params,\n",
        "    scoring='accuracy'\n",
        ")\n",
        "clf.fit(X_train, y_train)\n",
        "print(clf.best_params_)"
      ],
      "execution_count": 25,
      "outputs": [
        {
          "output_type": "stream",
          "text": [
            "{'C': 2, 'gamma': 'scale', 'kernel': 'rbf'}\n"
          ],
          "name": "stdout"
        }
      ]
    },
    {
      "cell_type": "markdown",
      "metadata": {
        "id": "AgQNAxTXmCMw"
      },
      "source": [
        "Train SVM with paramaters from GridSearchCV()"
      ]
    },
    {
      "cell_type": "code",
      "metadata": {
        "colab": {
          "base_uri": "https://localhost:8080/"
        },
        "id": "c8Vgnxy6kKnL",
        "outputId": "b82a0e4a-e45c-41ee-ce09-81280f424116"
      },
      "source": [
        "clf_svm = svm.SVC(C=2, kernel='rbf', random_state=42)\n",
        "clf_svm.fit(X_train, y_train)\n",
        "# confidence = pipe.score(X_test, y_test)\n",
        "# print(confidence)"
      ],
      "execution_count": 26,
      "outputs": [
        {
          "output_type": "execute_result",
          "data": {
            "text/plain": [
              "SVC(C=2, break_ties=False, cache_size=200, class_weight=None, coef0=0.0,\n",
              "    decision_function_shape='ovr', degree=3, gamma='scale', kernel='rbf',\n",
              "    max_iter=-1, probability=False, random_state=42, shrinking=True, tol=0.001,\n",
              "    verbose=False)"
            ]
          },
          "metadata": {
            "tags": []
          },
          "execution_count": 26
        }
      ]
    },
    {
      "cell_type": "markdown",
      "metadata": {
        "id": "H8orv_BUlseo"
      },
      "source": [
        "Accuracy Score"
      ]
    },
    {
      "cell_type": "code",
      "metadata": {
        "colab": {
          "base_uri": "https://localhost:8080/"
        },
        "id": "5xuVJ9d4kKpw",
        "outputId": "d241f181-16de-4326-ab1b-4daa71dd5b2f"
      },
      "source": [
        "pred = clf_svm.predict(X_test)\n",
        "print(accuracy_score(y_test, pred))"
      ],
      "execution_count": 27,
      "outputs": [
        {
          "output_type": "stream",
          "text": [
            "0.9722222222222222\n"
          ],
          "name": "stdout"
        }
      ]
    },
    {
      "cell_type": "markdown",
      "metadata": {
        "id": "FlBKr52Tlzd4"
      },
      "source": [
        "Plot Confusion Matrix"
      ]
    },
    {
      "cell_type": "code",
      "metadata": {
        "colab": {
          "base_uri": "https://localhost:8080/",
          "height": 395
        },
        "id": "LGEYKOvvkK1Y",
        "outputId": "fd17833c-4707-47da-f03b-bf6bbd324f32"
      },
      "source": [
        "plot_confusion_matrix(clf_svm, X_test, y_test, values_format='d', display_labels=['psoriasis', 'seboreic dermatitis', 'lichen planus', 'pityriasis rosea', 'cronic dermatitis', 'pityriasis rubra pilaris'], xticks_rotation='vertical')"
      ],
      "execution_count": 28,
      "outputs": [
        {
          "output_type": "execute_result",
          "data": {
            "text/plain": [
              "<sklearn.metrics._plot.confusion_matrix.ConfusionMatrixDisplay at 0x7f264ec33590>"
            ]
          },
          "metadata": {
            "tags": []
          },
          "execution_count": 28
        },
        {
          "output_type": "display_data",
          "data": {
            "image/png": "[encoded data removed]",
            "text/plain": [
              "<Figure size 432x288 with 2 Axes>"
            ]
          },
          "metadata": {
            "tags": [],
            "needs_background": "light"
          }
        }
      ]
    }
  ]
}