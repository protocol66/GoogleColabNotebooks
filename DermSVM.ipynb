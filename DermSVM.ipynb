{
  "nbformat": 4,
  "nbformat_minor": 0,
  "metadata": {
    "colab": {
      "name": "DermSVM.ipynb",
      "provenance": [],
      "collapsed_sections": [],
      "include_colab_link": true
    },
    "kernelspec": {
      "name": "python3",
      "display_name": "Python 3"
    },
    "language_info": {
      "name": "python"
    }
  },
  "cells": [
    {
      "cell_type": "markdown",
      "metadata": {
        "id": "view-in-github",
        "colab_type": "text"
      },
      "source": [
        "<a href=\"https://colab.research.google.com/github/protocol66/GoogleColabNotebooks/blob/main/DermSVM.ipynb\" target=\"_parent\"><img src=\"https://colab.research.google.com/assets/colab-badge.svg\" alt=\"Open In Colab\"/></a>"
      ]
    },
    {
      "cell_type": "markdown",
      "metadata": {
        "id": "fyr5PPxSkoag"
      },
      "source": [
        "Import packages"
      ]
    },
    {
      "cell_type": "code",
      "metadata": {
        "id": "Ny560tqyi_2B"
      },
      "source": [
        "import pandas as pd\n",
        "import numpy as np\n",
        "import matplotlib.pyplot as plt\n",
        "from sklearn import pipeline, preprocessing, svm, tree\n",
        "from sklearn.multiclass import OneVsRestClassifier \n",
        "from sklearn.model_selection import train_test_split, GridSearchCV, cross_val_score\n",
        "# from sklearn.decomposition import PCA\n",
        "from sklearn.metrics import accuracy_score, confusion_matrix, plot_confusion_matrix, plot_roc_curve"
      ],
      "execution_count": 1,
      "outputs": []
    },
    {
      "cell_type": "markdown",
      "metadata": {
        "id": "XqjgzGlukv66"
      },
      "source": [
        "\n",
        "Read in dataset (https://archive.ics.uci.edu/ml/datasets/Dermatology)"
      ]
    },
    {
      "cell_type": "code",
      "metadata": {
        "id": "QgPyujaYjA0M"
      },
      "source": [
        "df = pd.read_csv('/content/dermatology.data', header=None)\n",
        "df.columns = ['erythema',\n",
        "            'scaling',\n",
        "            'definite borders',\n",
        "            'itching',\n",
        "            'koebner phenomenon',\n",
        "            'polygonal papules',\n",
        "            'follicular papules',\n",
        "            'oral mucosal involvement',\n",
        "            'knee and elbow involvement',\n",
        "            'scalp involvement',\n",
        "            'family history',\n",
        "            'melanin incontinence',\n",
        "            'eosinophils in the infiltrate',\n",
        "            'PNL infiltrate',\n",
        "            'fibrosis of the papillary dermis',\n",
        "            'exocytosis',\n",
        "            'acanthosis',\n",
        "            'hyperkeratosis',\n",
        "            'parakeratosis',\n",
        "            'clubbing of the rete ridges',\n",
        "            'elongation of the rete ridges',\n",
        "            'thinning of the suprapapillary epidermis',\n",
        "            'spongiform pustule',\n",
        "            'munro microabcess',\n",
        "            'focal hypergranulosis',\n",
        "            'disappearance of the granular layer',\n",
        "            'vacuolisation and damage of basal layer',\n",
        "            'spongiosis',\n",
        "            'saw-tooth appearance of retes',\n",
        "            'follicular horn plug',\n",
        "            'perifollicular parakeratosis',\n",
        "            'inflammatory monoluclear inflitrate',\n",
        "            'band-like infiltrate',\n",
        "            'age',\n",
        "            'class']"
      ],
      "execution_count": null,
      "outputs": []
    },
    {
      "cell_type": "markdown",
      "metadata": {
        "id": "8qf7x28Dk82s"
      },
      "source": [
        "Drop rows with missing data"
      ]
    },
    {
      "cell_type": "code",
      "metadata": {
        "id": "NX0xRVumkKOE"
      },
      "source": [
        "df.replace('?', np.nan, inplace=True)\n",
        "df.dropna(inplace=True)"
      ],
      "execution_count": null,
      "outputs": []
    },
    {
      "cell_type": "markdown",
      "metadata": {
        "id": "p0s0KvOTlBfI"
      },
      "source": [
        "Split features and labels"
      ]
    },
    {
      "cell_type": "code",
      "metadata": {
        "id": "EUzZwArikKXT"
      },
      "source": [
        "X = df.drop(['class'], 1).copy()\n",
        "y = df['class'].copy()\n",
        "X = np.array(X)\n",
        "y = np.array(y)"
      ],
      "execution_count": null,
      "outputs": []
    },
    {
      "cell_type": "markdown",
      "metadata": {
        "id": "fiA1z970lK6l"
      },
      "source": [
        "Split training and testing sets"
      ]
    },
    {
      "cell_type": "code",
      "metadata": {
        "id": "jrpqfsiZkKhP"
      },
      "source": [
        "X_train, X_test, y_train, y_test = train_test_split(X, y, test_size=0.2, random_state=42)"
      ],
      "execution_count": null,
      "outputs": []
    },
    {
      "cell_type": "markdown",
      "metadata": {
        "id": "TPCIDP1KlFJ4"
      },
      "source": [
        "Scale training data"
      ]
    },
    {
      "cell_type": "code",
      "metadata": {
        "id": "ABSwF-4ekKdP"
      },
      "source": [
        "scaler = preprocessing.StandardScaler()\n",
        "X_train = scaler.fit_transform(X_train)\n",
        "X_test = scaler.transform(X_test)"
      ],
      "execution_count": null,
      "outputs": []
    },
    {
      "cell_type": "markdown",
      "metadata": {
        "id": "DOHq2kMulJ3F"
      },
      "source": [
        "Use GridSearchCV() to find best paramaters then print out paramaters. (No need to rerun if using same training data.)"
      ]
    },
    {
      "cell_type": "code",
      "metadata": {
        "colab": {
          "base_uri": "https://localhost:8080/"
        },
        "id": "AyRm3yZPkKkW",
        "outputId": "6c658a7e-682f-4933-fe51-9ca3836c177b"
      },
      "source": [
        "\n",
        "params = {\n",
        "    'C': [0.5, 1, 2, 3, 4, 5, 6, 7, 8, 9, 10, 100],\n",
        "    'gamma': ['scale', 1, 0.1, 0.01, 0.001, 0.0001],\n",
        "    'kernel': ['linear']\n",
        "}\n",
        "clf = GridSearchCV(\n",
        "    svm.SVC(break_ties=True, random_state=42),\n",
        "    params,\n",
        "    scoring='accuracy'\n",
        ")\n",
        "clf.fit(X_train, y_train)\n",
        "print(clf.best_params_)"
      ],
      "execution_count": null,
      "outputs": [
        {
          "output_type": "stream",
          "text": [
            "{'C': 3, 'gamma': 'scale', 'kernel': 'linear'}\n"
          ],
          "name": "stdout"
        }
      ]
    },
    {
      "cell_type": "markdown",
      "metadata": {
        "id": "AgQNAxTXmCMw"
      },
      "source": [
        "Train SVM with paramaters from GridSearchCV()."
      ]
    },
    {
      "cell_type": "code",
      "metadata": {
        "colab": {
          "base_uri": "https://localhost:8080/"
        },
        "id": "c8Vgnxy6kKnL",
        "outputId": "53d38660-d257-4644-8688-fa256fec02c4"
      },
      "source": [
        "clf_svm = OneVsRestClassifier(svm.SVC(C=3, kernel='linear', decision_function_shape='ovr', break_ties=True, random_state=42))\n",
        "clf_svm.fit(X_train, y_train)"
      ],
      "execution_count": null,
      "outputs": [
        {
          "output_type": "execute_result",
          "data": {
            "text/plain": [
              "OneVsRestClassifier(estimator=SVC(C=3, break_ties=True, cache_size=200,\n",
              "                                  class_weight=None, coef0=0.0,\n",
              "                                  decision_function_shape='ovr', degree=3,\n",
              "                                  gamma='scale', kernel='linear', max_iter=-1,\n",
              "                                  probability=False, random_state=42,\n",
              "                                  shrinking=True, tol=0.001, verbose=False),\n",
              "                    n_jobs=None)"
            ]
          },
          "metadata": {
            "tags": []
          },
          "execution_count": 33
        }
      ]
    },
    {
      "cell_type": "markdown",
      "metadata": {
        "id": "sS27O1Qv9jIU"
      },
      "source": [
        "Output paramaters to csv file"
      ]
    },
    {
      "cell_type": "code",
      "metadata": {
        "id": "KOZk9woRZFvi",
        "colab": {
          "base_uri": "https://localhost:8080/",
          "height": 289
        },
        "outputId": "43918a39-a4c7-445b-fd1d-3d10966cf91f"
      },
      "source": [
        "cols = []\n",
        "w_length = len(clf_svm.coef_[0])\n",
        "for i in range(1, w_length + 1):\n",
        "  cols.append('w_i_' + str(i))\n",
        "cols.append('b_i')\n",
        "\n",
        "rows = np.arange(1,7)\n",
        "\n",
        "params = pd.DataFrame(index=rows, columns=cols)\n",
        "\n",
        "row = 0;\n",
        "for w in clf_svm.coef_:\n",
        "  for i in range(0, w_length):\n",
        "    params.iat[row, i] = w[i];\n",
        "  row += 1;\n",
        "\n",
        "bs = clf_svm.intercept_.tolist()\n",
        "for i in range(0,len(bs)):\n",
        "  bs[i] = bs[i][0]\n",
        "params['b_i'] = bs\n",
        "\n",
        "params.to_csv('/content/params.csv')\n",
        "params\n"
      ],
      "execution_count": null,
      "outputs": [
        {
          "output_type": "execute_result",
          "data": {
            "text/html": [
              "<div>\n",
              "<style scoped>\n",
              "    .dataframe tbody tr th:only-of-type {\n",
              "        vertical-align: middle;\n",
              "    }\n",
              "\n",
              "    .dataframe tbody tr th {\n",
              "        vertical-align: top;\n",
              "    }\n",
              "\n",
              "    .dataframe thead th {\n",
              "        text-align: right;\n",
              "    }\n",
              "</style>\n",
              "<table border=\"1\" class=\"dataframe\">\n",
              "  <thead>\n",
              "    <tr style=\"text-align: right;\">\n",
              "      <th></th>\n",
              "      <th>w_i_1</th>\n",
              "      <th>w_i_2</th>\n",
              "      <th>w_i_3</th>\n",
              "      <th>w_i_4</th>\n",
              "      <th>w_i_5</th>\n",
              "      <th>w_i_6</th>\n",
              "      <th>w_i_7</th>\n",
              "      <th>w_i_8</th>\n",
              "      <th>w_i_9</th>\n",
              "      <th>w_i_10</th>\n",
              "      <th>w_i_11</th>\n",
              "      <th>w_i_12</th>\n",
              "      <th>w_i_13</th>\n",
              "      <th>w_i_14</th>\n",
              "      <th>w_i_15</th>\n",
              "      <th>w_i_16</th>\n",
              "      <th>w_i_17</th>\n",
              "      <th>w_i_18</th>\n",
              "      <th>w_i_19</th>\n",
              "      <th>w_i_20</th>\n",
              "      <th>w_i_21</th>\n",
              "      <th>w_i_22</th>\n",
              "      <th>w_i_23</th>\n",
              "      <th>w_i_24</th>\n",
              "      <th>w_i_25</th>\n",
              "      <th>w_i_26</th>\n",
              "      <th>w_i_27</th>\n",
              "      <th>w_i_28</th>\n",
              "      <th>w_i_29</th>\n",
              "      <th>w_i_30</th>\n",
              "      <th>w_i_31</th>\n",
              "      <th>w_i_32</th>\n",
              "      <th>w_i_33</th>\n",
              "      <th>w_i_34</th>\n",
              "      <th>b_i</th>\n",
              "    </tr>\n",
              "  </thead>\n",
              "  <tbody>\n",
              "    <tr>\n",
              "      <th>1</th>\n",
              "      <td>0.082188</td>\n",
              "      <td>0.14675</td>\n",
              "      <td>0.0208296</td>\n",
              "      <td>0.059352</td>\n",
              "      <td>0.0654794</td>\n",
              "      <td>-3.81639e-17</td>\n",
              "      <td>-0.132905</td>\n",
              "      <td>-5.20417e-17</td>\n",
              "      <td>0.209917</td>\n",
              "      <td>0.119713</td>\n",
              "      <td>0.0427767</td>\n",
              "      <td>-3.1225e-17</td>\n",
              "      <td>-0.0490273</td>\n",
              "      <td>0.180639</td>\n",
              "      <td>-0.22752</td>\n",
              "      <td>-0.293427</td>\n",
              "      <td>0.0820789</td>\n",
              "      <td>0.0406098</td>\n",
              "      <td>0.0664677</td>\n",
              "      <td>0.275522</td>\n",
              "      <td>0.230965</td>\n",
              "      <td>0.498444</td>\n",
              "      <td>-0.108014</td>\n",
              "      <td>0.215235</td>\n",
              "      <td>1.73472e-18</td>\n",
              "      <td>0.108687</td>\n",
              "      <td>-3.64292e-17</td>\n",
              "      <td>-0.299487</td>\n",
              "      <td>-0.0381718</td>\n",
              "      <td>-2.68882e-17</td>\n",
              "      <td>-0.0784256</td>\n",
              "      <td>-0.0224928</td>\n",
              "      <td>-0.0366562</td>\n",
              "      <td>0.0309849</td>\n",
              "      <td>-0.484061</td>\n",
              "    </tr>\n",
              "    <tr>\n",
              "      <th>2</th>\n",
              "      <td>0.680624</td>\n",
              "      <td>0.384097</td>\n",
              "      <td>0.135418</td>\n",
              "      <td>1.5857</td>\n",
              "      <td>-1.37471</td>\n",
              "      <td>-0.556309</td>\n",
              "      <td>-0.379522</td>\n",
              "      <td>-0.107212</td>\n",
              "      <td>-0.455107</td>\n",
              "      <td>0.520309</td>\n",
              "      <td>-0.107181</td>\n",
              "      <td>-0.351913</td>\n",
              "      <td>0.529691</td>\n",
              "      <td>1.72669</td>\n",
              "      <td>-0.814131</td>\n",
              "      <td>0.059789</td>\n",
              "      <td>0.382774</td>\n",
              "      <td>0.0658552</td>\n",
              "      <td>-0.512696</td>\n",
              "      <td>-0.527441</td>\n",
              "      <td>-0.668941</td>\n",
              "      <td>-1.00413</td>\n",
              "      <td>-0.586356</td>\n",
              "      <td>-0.323239</td>\n",
              "      <td>-0.609331</td>\n",
              "      <td>-2.84268</td>\n",
              "      <td>-0.555844</td>\n",
              "      <td>1.16298</td>\n",
              "      <td>-0.553727</td>\n",
              "      <td>-0.075456</td>\n",
              "      <td>-0.14182</td>\n",
              "      <td>-0.222168</td>\n",
              "      <td>0.623806</td>\n",
              "      <td>-0.032788</td>\n",
              "      <td>-4.954263</td>\n",
              "    </tr>\n",
              "    <tr>\n",
              "      <th>3</th>\n",
              "      <td>0.0156622</td>\n",
              "      <td>-0.0399945</td>\n",
              "      <td>0.037009</td>\n",
              "      <td>0.0400953</td>\n",
              "      <td>0.011687</td>\n",
              "      <td>0.134669</td>\n",
              "      <td>-0.000199598</td>\n",
              "      <td>0.0884743</td>\n",
              "      <td>-0.00376497</td>\n",
              "      <td>-0.00536581</td>\n",
              "      <td>-0.00342416</td>\n",
              "      <td>0.158497</td>\n",
              "      <td>0.0101919</td>\n",
              "      <td>-0.0273122</td>\n",
              "      <td>-0.0394468</td>\n",
              "      <td>0.0219938</td>\n",
              "      <td>0.0201787</td>\n",
              "      <td>-0.00875677</td>\n",
              "      <td>0.036024</td>\n",
              "      <td>-0.00436538</td>\n",
              "      <td>-0.0482904</td>\n",
              "      <td>-0.00541824</td>\n",
              "      <td>0</td>\n",
              "      <td>-0.00938522</td>\n",
              "      <td>0.201643</td>\n",
              "      <td>-0.00434854</td>\n",
              "      <td>0.174502</td>\n",
              "      <td>-0.0246829</td>\n",
              "      <td>0.159955</td>\n",
              "      <td>-0.00096635</td>\n",
              "      <td>-0.000908129</td>\n",
              "      <td>0.0388998</td>\n",
              "      <td>0.139197</td>\n",
              "      <td>-0.00601533</td>\n",
              "      <td>-0.596426</td>\n",
              "    </tr>\n",
              "    <tr>\n",
              "      <th>4</th>\n",
              "      <td>-0.585154</td>\n",
              "      <td>-0.330014</td>\n",
              "      <td>0.105854</td>\n",
              "      <td>-1.49705</td>\n",
              "      <td>1.10116</td>\n",
              "      <td>-0.398776</td>\n",
              "      <td>-0.443062</td>\n",
              "      <td>-0.389746</td>\n",
              "      <td>-0.56094</td>\n",
              "      <td>-0.703518</td>\n",
              "      <td>-0.392148</td>\n",
              "      <td>-0.374315</td>\n",
              "      <td>-0.244747</td>\n",
              "      <td>-1.40825</td>\n",
              "      <td>-1.83766</td>\n",
              "      <td>-0.0553688</td>\n",
              "      <td>-0.527467</td>\n",
              "      <td>0.114072</td>\n",
              "      <td>0.453834</td>\n",
              "      <td>-0.798411</td>\n",
              "      <td>-1.86823</td>\n",
              "      <td>-0.802729</td>\n",
              "      <td>-0.550608</td>\n",
              "      <td>-0.490975</td>\n",
              "      <td>-0.397817</td>\n",
              "      <td>2.21645</td>\n",
              "      <td>-0.346272</td>\n",
              "      <td>-0.458084</td>\n",
              "      <td>-0.344953</td>\n",
              "      <td>-0.140349</td>\n",
              "      <td>-0.131893</td>\n",
              "      <td>0.298623</td>\n",
              "      <td>-0.343078</td>\n",
              "      <td>-0.0908393</td>\n",
              "      <td>-5.407414</td>\n",
              "    </tr>\n",
              "    <tr>\n",
              "      <th>5</th>\n",
              "      <td>-0.0176256</td>\n",
              "      <td>-0.115445</td>\n",
              "      <td>-0.0531055</td>\n",
              "      <td>0.0399492</td>\n",
              "      <td>-0.0868111</td>\n",
              "      <td>-0.0549372</td>\n",
              "      <td>0.0303637</td>\n",
              "      <td>-0.0617827</td>\n",
              "      <td>-0.13717</td>\n",
              "      <td>-0.0926414</td>\n",
              "      <td>-0.0214031</td>\n",
              "      <td>-0.0593366</td>\n",
              "      <td>-0.161225</td>\n",
              "      <td>-0.302954</td>\n",
              "      <td>0.761124</td>\n",
              "      <td>-0.271772</td>\n",
              "      <td>0.000894473</td>\n",
              "      <td>0.0430842</td>\n",
              "      <td>-0.0926298</td>\n",
              "      <td>-0.0784002</td>\n",
              "      <td>0.211407</td>\n",
              "      <td>-0.248734</td>\n",
              "      <td>-0.0246575</td>\n",
              "      <td>-0.0665539</td>\n",
              "      <td>-0.0601733</td>\n",
              "      <td>-0.171925</td>\n",
              "      <td>-0.0548912</td>\n",
              "      <td>-0.372295</td>\n",
              "      <td>-0.0820233</td>\n",
              "      <td>-0.034848</td>\n",
              "      <td>-0.065497</td>\n",
              "      <td>0.139487</td>\n",
              "      <td>0.0154051</td>\n",
              "      <td>0.0851353</td>\n",
              "      <td>-1.341229</td>\n",
              "    </tr>\n",
              "    <tr>\n",
              "      <th>6</th>\n",
              "      <td>0.0196153</td>\n",
              "      <td>0.00816988</td>\n",
              "      <td>0.0200855</td>\n",
              "      <td>-0.0351908</td>\n",
              "      <td>-0.0228378</td>\n",
              "      <td>-0.00158093</td>\n",
              "      <td>0.241331</td>\n",
              "      <td>6.93889e-18</td>\n",
              "      <td>0.169874</td>\n",
              "      <td>0.0847412</td>\n",
              "      <td>0.0520414</td>\n",
              "      <td>-0.00170753</td>\n",
              "      <td>-0.00494607</td>\n",
              "      <td>0.00342501</td>\n",
              "      <td>-0.0894348</td>\n",
              "      <td>-0.0533134</td>\n",
              "      <td>-0.0863114</td>\n",
              "      <td>-0.0632633</td>\n",
              "      <td>0.0367191</td>\n",
              "      <td>-0.0614991</td>\n",
              "      <td>-0.132077</td>\n",
              "      <td>-0.0532458</td>\n",
              "      <td>-0.0189611</td>\n",
              "      <td>-0.058407</td>\n",
              "      <td>-0.00173161</td>\n",
              "      <td>-0.0220707</td>\n",
              "      <td>-0.00105307</td>\n",
              "      <td>-0.00777576</td>\n",
              "      <td>-0.00157359</td>\n",
              "      <td>0.101522</td>\n",
              "      <td>0.291603</td>\n",
              "      <td>-0.046742</td>\n",
              "      <td>0.046795</td>\n",
              "      <td>-0.0961571</td>\n",
              "      <td>-1.253175</td>\n",
              "    </tr>\n",
              "  </tbody>\n",
              "</table>\n",
              "</div>"
            ],
            "text/plain": [
              "       w_i_1       w_i_2      w_i_3  ...     w_i_33      w_i_34       b_i\n",
              "1   0.082188     0.14675  0.0208296  ... -0.0366562   0.0309849 -0.484061\n",
              "2   0.680624    0.384097   0.135418  ...   0.623806   -0.032788 -4.954263\n",
              "3  0.0156622  -0.0399945   0.037009  ...   0.139197 -0.00601533 -0.596426\n",
              "4  -0.585154   -0.330014   0.105854  ...  -0.343078  -0.0908393 -5.407414\n",
              "5 -0.0176256   -0.115445 -0.0531055  ...  0.0154051   0.0851353 -1.341229\n",
              "6  0.0196153  0.00816988  0.0200855  ...   0.046795  -0.0961571 -1.253175\n",
              "\n",
              "[6 rows x 35 columns]"
            ]
          },
          "metadata": {
            "tags": []
          },
          "execution_count": 35
        }
      ]
    },
    {
      "cell_type": "markdown",
      "metadata": {
        "id": "H8orv_BUlseo"
      },
      "source": [
        "Accuracy Score"
      ]
    },
    {
      "cell_type": "code",
      "metadata": {
        "colab": {
          "base_uri": "https://localhost:8080/"
        },
        "id": "5xuVJ9d4kKpw",
        "outputId": "0439ddc1-09f3-4214-ab7c-9a13335ac234"
      },
      "source": [
        "pred = clf_svm.predict(X_test)\n",
        "# print(pred)\n",
        "print(accuracy_score(y_test, pred))"
      ],
      "execution_count": null,
      "outputs": [
        {
          "output_type": "stream",
          "text": [
            "0.9722222222222222\n"
          ],
          "name": "stdout"
        }
      ]
    },
    {
      "cell_type": "markdown",
      "metadata": {
        "id": "FlBKr52Tlzd4"
      },
      "source": [
        "Plot Confusion Matrix"
      ]
    },
    {
      "cell_type": "code",
      "metadata": {
        "colab": {
          "base_uri": "https://localhost:8080/",
          "height": 395
        },
        "id": "LGEYKOvvkK1Y",
        "outputId": "cdd2c410-4585-4181-fac6-d9f200efd700"
      },
      "source": [
        "plot_confusion_matrix(clf_svm, X_test, y_test, values_format='d', display_labels=['psoriasis', 'seboreic dermatitis', 'lichen planus', 'pityriasis rosea', 'cronic dermatitis', 'pityriasis rubra pilaris'], xticks_rotation='vertical')"
      ],
      "execution_count": null,
      "outputs": [
        {
          "output_type": "execute_result",
          "data": {
            "text/plain": [
              "<sklearn.metrics._plot.confusion_matrix.ConfusionMatrixDisplay at 0x7fce660d3cd0>"
            ]
          },
          "metadata": {
            "tags": []
          },
          "execution_count": 32
        },
        {
          "output_type": "display_data",
          "data": {
            "image/png": "[encoded data removed]",
            "text/plain": [
              "<Figure size 432x288 with 2 Axes>"
            ]
          },
          "metadata": {
            "tags": [],
            "needs_background": "light"
          }
        }
      ]
    }
  ]
}